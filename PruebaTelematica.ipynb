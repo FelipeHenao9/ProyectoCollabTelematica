{
  "nbformat": 4,
  "nbformat_minor": 0,
  "metadata": {
    "colab": {
      "provenance": [],
      "include_colab_link": true
    },
    "kernelspec": {
      "name": "python3",
      "display_name": "Python 3"
    },
    "language_info": {
      "name": "python"
    }
  },
  "cells": [
    {
      "cell_type": "markdown",
      "metadata": {
        "id": "view-in-github",
        "colab_type": "text"
      },
      "source": [
        "<a href=\"https://colab.research.google.com/github/FelipeHenao9/ProyectoCollabTelematica/blob/main/PruebaTelematica.ipynb\" target=\"_parent\"><img src=\"https://colab.research.google.com/assets/colab-badge.svg\" alt=\"Open In Colab\"/></a>"
      ]
    },
    {
      "cell_type": "code",
      "execution_count": 2,
      "metadata": {
        "id": "0DeewgD9yGl-",
        "outputId": "c12bb45c-371a-4871-ccb9-f4e69a21f1dc",
        "colab": {
          "base_uri": "https://localhost:8080/"
        }
      },
      "outputs": [
        {
          "output_type": "stream",
          "name": "stdout",
          "text": [
            "Hola equipo de Telemática\n",
            "Hola rensobg conectado\n"
          ]
        }
      ],
      "source": [
        "# Colab de trabajo en equipo\n",
        "print(\"Hola equipo de Telemática\")\n",
        "print(\"Hola rensobg conectado\")"
      ]
    }
  ]
}